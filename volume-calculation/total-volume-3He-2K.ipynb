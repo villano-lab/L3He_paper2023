{
 "cells": [
  {
   "cell_type": "code",
   "execution_count": 1,
   "id": "dd447a2c-0ca3-4b3e-9d09-118b9cbf3cc9",
   "metadata": {},
   "outputs": [],
   "source": [
    "#we may need some code in the ../python directory and/or matplotlib styles\n",
    "import sys\n",
    "sys.path.append('../python/')\n",
    "\n",
    "#matplotlib for plotting\n",
    "import matplotlib as mpl\n",
    "from matplotlib import pyplot as plt\n",
    "plt.style.use('../mplstyles/stylelib/standard.mplstyle')\n",
    "\n",
    "#other computational libraries\n",
    "import numpy as np\n"
   ]
  },
  {
   "cell_type": "code",
   "execution_count": 2,
   "id": "d48b066a-6ce3-4ce9-86ba-0849d4712a0c",
   "metadata": {},
   "outputs": [
    {
     "name": "stdout",
     "output_type": "stream",
     "text": [
      "38.66171003717472 670.2222222222223\n",
      "Volume of liquid: 8.00 cm^3\n"
     ]
    }
   ],
   "source": [
    "#define some variables\n",
    "vl2k = (1/0.07801)*3.016 #molar volume of liquid in cm^3/mol @ 1K\n",
    "vg2k = (1/0.00450)*3.016 #molar volume of gas in cm^3/mol @ 1K\n",
    "print(vl2k,vg2k)\n",
    "#Vl = ((2.0*2.54)/2)**2*np.pi*(0.2*2.54) #liquid volume of a cylindrical pillbox 2\" diameter and 0.2\" thick\n",
    "Vl = (2*2*2) #liquid volume of a cubical pillbox 2cm x 2cm x 2cm\n",
    "\n",
    "print('Volume of liquid: {:3.2f} cm^3'.format(Vl))"
   ]
  },
  {
   "cell_type": "code",
   "execution_count": 3,
   "id": "9912ba32-a1f5-44e1-84f7-ffac3f8c169d",
   "metadata": {},
   "outputs": [],
   "source": [
    "def vtot_2k(fl):\n",
    "    return (Vl) + (1-fl)*(Vl/vl2k)*(vg2k/fl)"
   ]
  },
  {
   "cell_type": "code",
   "execution_count": 4,
   "id": "25373e40-b988-49e2-8cb1-716530453ace",
   "metadata": {},
   "outputs": [],
   "source": [
    "def height(vol):   #height in cm of a cylinder with 4cm diameter and volume=vol\n",
    "    return vol/(((4.0)/2.0)**2*2*np.pi)"
   ]
  },
  {
   "cell_type": "code",
   "execution_count": 5,
   "id": "8cea483d-94e3-4928-8c94-8eeffbcfba60",
   "metadata": {},
   "outputs": [
    {
     "name": "stdout",
     "output_type": "stream",
     "text": [
      "Gas mol: 0.02\n",
      "Total volume: 23.41 cm^3\n",
      "Total height: 0.61 cm\n",
      "Total mol: 0.23\n"
     ]
    }
   ],
   "source": [
    "#dimensions of container (hermetic)\n",
    "fl=0.8\n",
    "n = Vl/(fl*vl2k)\n",
    "ng = n*(1-fl)\n",
    "print('Gas mol: {:3.2f}'.format(ng))\n",
    "print('Total volume: {:4.2f} cm^3'.format(vtot_2k(fl)))\n",
    "print('Total height: {:3.2f} cm'.format(height(vtot_2k(fl)-Vl)))\n",
    "print('Total mol: {:3.2f}'.format(n))\n"
   ]
  },
  {
   "cell_type": "code",
   "execution_count": 6,
   "id": "111d814d-2732-4091-8e21-aa5cbe8b885b",
   "metadata": {},
   "outputs": [
    {
     "name": "stdout",
     "output_type": "stream",
     "text": [
      "RT Pressure: 24321689.75 Pa\n",
      "RT Pressure: 3527.57 psi\n",
      "RT Pressure: 240.04 atm\n"
     ]
    }
   ],
   "source": [
    "#pressure at room temp\n",
    "R = 8.31 #J/mol/K\n",
    "T=298 #K @ Room temp\n",
    "P = n*R*T/(vtot_2k(fl)/1e6)\n",
    "print('RT Pressure: {:3.2f} Pa'.format(P))\n",
    "print('RT Pressure: {:3.2f} psi'.format(P*0.000145038))\n",
    "print('RT Pressure: {:3.2f} atm'.format(P*0.000145038/14.6959))\n"
   ]
  },
  {
   "cell_type": "code",
   "execution_count": 7,
   "id": "f2d17d34-17f3-4281-a0de-d9c94848ee01",
   "metadata": {},
   "outputs": [
    {
     "name": "stdout",
     "output_type": "stream",
     "text": [
      "Liters of 3He: 5.62 liters\n"
     ]
    }
   ],
   "source": [
    "#liters at 1atm\n",
    "oneatm = 101325 #Pa\n",
    "VgRT=(n*R*T/oneatm)*1e6 # in cm^3\n",
    "VgRTliter = VgRT/1000.0\n",
    "\n",
    "print('Liters of 3He: {:3.2f} liters'.format(VgRTliter))"
   ]
  },
  {
   "cell_type": "code",
   "execution_count": 8,
   "id": "6d1b7781-3195-4416-89a8-fd2d9ceee71e",
   "metadata": {},
   "outputs": [],
   "source": [
    "#Note: last quote of 3He was about $24k per 10 liters!!"
   ]
  },
  {
   "cell_type": "code",
   "execution_count": null,
   "id": "e5b42de0-52cc-4565-8f8a-0acb1a955bf6",
   "metadata": {},
   "outputs": [],
   "source": []
  }
 ],
 "metadata": {
  "kernelspec": {
   "display_name": "Python (fano_pub_new)",
   "language": "python",
   "name": "fano_pub_new"
  },
  "language_info": {
   "codemirror_mode": {
    "name": "ipython",
    "version": 3
   },
   "file_extension": ".py",
   "mimetype": "text/x-python",
   "name": "python",
   "nbconvert_exporter": "python",
   "pygments_lexer": "ipython3",
   "version": "3.8.0"
  }
 },
 "nbformat": 4,
 "nbformat_minor": 5
}
