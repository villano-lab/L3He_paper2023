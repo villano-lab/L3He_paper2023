{
 "cells": [
  {
   "cell_type": "code",
   "execution_count": 1,
   "id": "dd447a2c-0ca3-4b3e-9d09-118b9cbf3cc9",
   "metadata": {},
   "outputs": [],
   "source": [
    "#we may need some code in the ../python directory and/or matplotlib styles\n",
    "import sys\n",
    "sys.path.append('../python/')\n",
    "\n",
    "#matplotlib for plotting\n",
    "import matplotlib as mpl\n",
    "from matplotlib import pyplot as plt\n",
    "plt.style.use('../mplstyles/stylelib/standard.mplstyle')\n",
    "\n",
    "#other computational libraries\n",
    "import numpy as np\n"
   ]
  },
  {
   "cell_type": "code",
   "execution_count": 2,
   "id": "d48b066a-6ce3-4ce9-86ba-0849d4712a0c",
   "metadata": {},
   "outputs": [
    {
     "name": "stdout",
     "output_type": "stream",
     "text": [
      "36.86 5200.03\n",
      "Volume of liquid: 8.00 cm^3\n"
     ]
    }
   ],
   "source": [
    "#define some variables\n",
    "vl1k = 36.86 #molar volume of liquid in cm^3/mol @ 1K\n",
    "vg1k = 5200.03 #molar volume of gas in cm^3/mol @ 1K\n",
    "print(vl1k,vg1k)\n",
    "#Vl = ((2.0*2.54)/2)**2*np.pi*(0.2*2.54) #liquid volume of a cylindrical pillbox 2\" diameter and 0.2\" thick\n",
    "Vl = (2*2*2) #liquid volume of a cubical pillbox 2cm x 2cm x 2cm\n",
    "\n",
    "print('Volume of liquid: {:3.2f} cm^3'.format(Vl))"
   ]
  },
  {
   "cell_type": "code",
   "execution_count": 3,
   "id": "9912ba32-a1f5-44e1-84f7-ffac3f8c169d",
   "metadata": {},
   "outputs": [],
   "source": [
    "def vtot_1k(fl):\n",
    "    return (Vl) + (1-fl)*(Vl/vl1k)*(vg1k/fl)"
   ]
  },
  {
   "cell_type": "code",
   "execution_count": 4,
   "id": "25373e40-b988-49e2-8cb1-716530453ace",
   "metadata": {},
   "outputs": [],
   "source": [
    "def height(vol):   #height in cm of a cylinder with 4cm diameter and volume=vol\n",
    "    return vol/(((4.0)/2.0)**2*2*np.pi)"
   ]
  },
  {
   "cell_type": "code",
   "execution_count": 5,
   "id": "8cea483d-94e3-4928-8c94-8eeffbcfba60",
   "metadata": {},
   "outputs": [
    {
     "name": "stdout",
     "output_type": "stream",
     "text": [
      "Gas mol: 0.05\n",
      "Total volume: 290.15 cm^3\n",
      "Total height: 11.23 cm\n",
      "Total mol: 0.27\n"
     ]
    }
   ],
   "source": [
    "#dimensions of container (hermetic)\n",
    "fl=0.8\n",
    "n = Vl/(fl*vl1k)\n",
    "ng = n*(1-fl)\n",
    "print('Gas mol: {:3.2f}'.format(ng))\n",
    "print('Total volume: {:4.2f} cm^3'.format(vtot_1k(fl)))\n",
    "print('Total height: {:3.2f} cm'.format(height(vtot_1k(fl)-Vl)))\n",
    "print('Total mol: {:3.2f}'.format(n))\n"
   ]
  },
  {
   "cell_type": "code",
   "execution_count": 6,
   "id": "111d814d-2732-4091-8e21-aa5cbe8b885b",
   "metadata": {},
   "outputs": [
    {
     "name": "stdout",
     "output_type": "stream",
     "text": [
      "RT Pressure: 2315468.81 Pa\n",
      "RT Pressure: 335.83 psi\n",
      "RT Pressure: 22.85 atm\n"
     ]
    }
   ],
   "source": [
    "#pressure at room temp\n",
    "R = 8.31 #J/mol/K\n",
    "T=298 #K @ Room temp\n",
    "P = n*R*T/(vtot_1k(fl)/1e6)\n",
    "print('RT Pressure: {:3.2f} Pa'.format(P))\n",
    "print('RT Pressure: {:3.2f} psi'.format(P*0.000145038))\n",
    "print('RT Pressure: {:3.2f} atm'.format(P*0.000145038/14.6959))\n"
   ]
  },
  {
   "cell_type": "code",
   "execution_count": 7,
   "id": "f2d17d34-17f3-4281-a0de-d9c94848ee01",
   "metadata": {},
   "outputs": [
    {
     "name": "stdout",
     "output_type": "stream",
     "text": [
      "Liters of 3He: 6.63 liters\n"
     ]
    }
   ],
   "source": [
    "#liters at 1atm\n",
    "oneatm = 101325 #Pa\n",
    "VgRT=(n*R*T/oneatm)*1e6 # in cm^3\n",
    "VgRTliter = VgRT/1000.0\n",
    "\n",
    "print('Liters of 3He: {:3.2f} liters'.format(VgRTliter))"
   ]
  },
  {
   "cell_type": "code",
   "execution_count": 8,
   "id": "6d1b7781-3195-4416-89a8-fd2d9ceee71e",
   "metadata": {},
   "outputs": [],
   "source": [
    "#Note: last quote of 3He was about $24k per 10 liters!!"
   ]
  },
  {
   "cell_type": "code",
   "execution_count": 9,
   "id": "e5b42de0-52cc-4565-8f8a-0acb1a955bf6",
   "metadata": {},
   "outputs": [
    {
     "name": "stdout",
     "output_type": "stream",
     "text": [
      "Moles of 3He gas: 0.07 moles\n",
      "Density of 3He gas: 0.00 mol/cm^3\n",
      "Density of 3He gas: 0.0007404 g/cm^3\n"
     ]
    }
   ],
   "source": [
    "#3He gas tubes have been filled with 6atm partial pressure in a cylindrical ionization chamber of 5cm diameter and 15cm length\n",
    "Pgas = oneatm*6\n",
    "Vgas = np.pi*(0.05/2)**2*0.15\n",
    "ngas = Pgas*Vgas/(R*T)\n",
    "\n",
    "print('Moles of 3He gas: {:3.2f} moles'.format(ngas))\n",
    "\n",
    "rhogas_mol = ngas/(Vgas*1e6)\n",
    "rhogas = rhogas_mol*3.01603\n",
    "\n",
    "print('Density of 3He gas: {:3.2f} mol/cm^3'.format(rhogas_mol))\n",
    "print('Density of 3He gas: {:3.7f} g/cm^3'.format(rhogas))"
   ]
  },
  {
   "cell_type": "code",
   "execution_count": 10,
   "id": "570a778f-734b-43ce-ae91-d78a82124a11",
   "metadata": {},
   "outputs": [
    {
     "name": "stdout",
     "output_type": "stream",
     "text": [
      "Density factor: 110.51\n"
     ]
    }
   ],
   "source": [
    "#efficiency factor\n",
    "x = ((1/vl1k)*3.01603)/rhogas\n",
    "\n",
    "print('Density factor: {:3.2f}'.format(x))"
   ]
  },
  {
   "cell_type": "code",
   "execution_count": 11,
   "id": "b113ab3e-9de4-41b7-9050-320483d640d6",
   "metadata": {},
   "outputs": [
    {
     "data": {
      "text/plain": [
       "44.20323818466631"
      ]
     },
     "execution_count": 11,
     "metadata": {},
     "output_type": "execute_result"
    }
   ],
   "source": [
    "x*(2/5)"
   ]
  },
  {
   "cell_type": "code",
   "execution_count": 12,
   "id": "34a408e1-e6b3-4320-951c-60c0bd14d4c3",
   "metadata": {},
   "outputs": [
    {
     "name": "stdout",
     "output_type": "stream",
     "text": [
      "Moles of 3He gas: 0.12 moles\n",
      "Density of 3He gas: 0.00 mol/cm^3\n",
      "Density of 3He gas: 0.0012341 g/cm^3\n"
     ]
    }
   ],
   "source": [
    "#3He gas tubes have been filled with 10atm partial pressure in a cylindrical ionization chamber of 5cm diameter and 15cm length\n",
    "Pgas = oneatm*10\n",
    "Vgas = np.pi*(0.05/2)**2*0.15\n",
    "ngas = Pgas*Vgas/(R*T)\n",
    "\n",
    "print('Moles of 3He gas: {:3.2f} moles'.format(ngas))\n",
    "\n",
    "rhogas_mol = ngas/(Vgas*1e6)\n",
    "rhogas = rhogas_mol*3.01603\n",
    "\n",
    "print('Density of 3He gas: {:3.2f} mol/cm^3'.format(rhogas_mol))\n",
    "print('Density of 3He gas: {:3.7f} g/cm^3'.format(rhogas))"
   ]
  },
  {
   "cell_type": "code",
   "execution_count": null,
   "id": "f13c9aee-dda8-4341-ba73-103274fcd067",
   "metadata": {},
   "outputs": [],
   "source": []
  }
 ],
 "metadata": {
  "kernelspec": {
   "display_name": "Python (fano_pub_new)",
   "language": "python",
   "name": "fano_pub_new"
  },
  "language_info": {
   "codemirror_mode": {
    "name": "ipython",
    "version": 3
   },
   "file_extension": ".py",
   "mimetype": "text/x-python",
   "name": "python",
   "nbconvert_exporter": "python",
   "pygments_lexer": "ipython3",
   "version": "3.8.0"
  }
 },
 "nbformat": 4,
 "nbformat_minor": 5
}
