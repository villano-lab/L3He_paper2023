{
 "cells": [
  {
   "cell_type": "code",
   "execution_count": 1,
   "id": "dd447a2c-0ca3-4b3e-9d09-118b9cbf3cc9",
   "metadata": {},
   "outputs": [],
   "source": [
    "#we may need some code in the ../python directory and/or matplotlib styles\n",
    "import sys\n",
    "sys.path.append('../python/')\n",
    "\n",
    "#matplotlib for plotting\n",
    "import matplotlib as mpl\n",
    "from matplotlib import pyplot as plt\n",
    "plt.style.use('../mplstyles/stylelib/standard.mplstyle')\n",
    "\n",
    "#other computational libraries\n",
    "import numpy as np\n"
   ]
  },
  {
   "cell_type": "code",
   "execution_count": 2,
   "id": "d48b066a-6ce3-4ce9-86ba-0849d4712a0c",
   "metadata": {},
   "outputs": [
    {
     "name": "stdout",
     "output_type": "stream",
     "text": [
      "Volume of liquid: 102.96 cm^3\n"
     ]
    }
   ],
   "source": [
    "#define some variables\n",
    "vl1k = 36.86 #molar volume of liquid in cm^3/mol @ 1K\n",
    "vg1k = 5200.03 #molar volume of gas in cm^3/mol @ 1K\n",
    "Vl = ((2.0*2.54)/2)**2*np.pi*(2*2.54) #liquid volume of a cylindrical pillbox 4\" diameter and 2\" thick\n",
    "\n",
    "print('Volume of liquid: {:3.2f} cm^3'.format(Vl))"
   ]
  },
  {
   "cell_type": "code",
   "execution_count": 3,
   "id": "9912ba32-a1f5-44e1-84f7-ffac3f8c169d",
   "metadata": {},
   "outputs": [],
   "source": [
    "def vtot_1k(fl):\n",
    "    return (Vl) + (1-fl)*(Vl/vl1k)*(vg1k/fl)"
   ]
  },
  {
   "cell_type": "code",
   "execution_count": 7,
   "id": "25373e40-b988-49e2-8cb1-716530453ace",
   "metadata": {},
   "outputs": [],
   "source": [
    "def height(vol):   #height in cm of a cylinder with 4\" diameter and volume=vol\n",
    "    return vol/(((4.0*2.54)/2.0)**2*2*np.pi)"
   ]
  },
  {
   "cell_type": "code",
   "execution_count": 16,
   "id": "8cea483d-94e3-4928-8c94-8eeffbcfba60",
   "metadata": {},
   "outputs": [
    {
     "name": "stdout",
     "output_type": "stream",
     "text": [
      "Total volume: 1716.91 cm^3\n",
      "Total height: 10.59 cm\n",
      "Total mol: 3.10\n"
     ]
    }
   ],
   "source": [
    "fl=0.9\n",
    "n = Vl/(fl*vl1k)\n",
    "\n",
    "print('Total volume: {:4.2f} cm^3'.format(vtot_1k(fl)))\n",
    "print('Total height: {:3.2f} cm'.format(height(vtot_1k(fl))))\n",
    "print('Total mol: {:3.2f}'.format(n))"
   ]
  },
  {
   "cell_type": "code",
   "execution_count": null,
   "id": "111d814d-2732-4091-8e21-aa5cbe8b885b",
   "metadata": {},
   "outputs": [],
   "source": []
  }
 ],
 "metadata": {
  "kernelspec": {
   "display_name": "Python (fano_pub_new)",
   "language": "python",
   "name": "fano_pub_new"
  },
  "language_info": {
   "codemirror_mode": {
    "name": "ipython",
    "version": 3
   },
   "file_extension": ".py",
   "mimetype": "text/x-python",
   "name": "python",
   "nbconvert_exporter": "python",
   "pygments_lexer": "ipython3",
   "version": "3.8.0"
  }
 },
 "nbformat": 4,
 "nbformat_minor": 5
}
