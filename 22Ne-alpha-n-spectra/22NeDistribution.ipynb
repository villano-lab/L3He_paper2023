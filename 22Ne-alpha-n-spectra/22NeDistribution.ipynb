{
 "cells": [
  {
   "cell_type": "code",
   "execution_count": 1,
   "id": "eda7bbf1-1482-4465-a6f1-31d5f11b43a1",
   "metadata": {},
   "outputs": [],
   "source": [
    "#we may need some code in the ../python directory and/or matplotlib styles\n",
    "import sys\n",
    "sys.path.append('../python/')\n",
    "\n",
    "#matplotlib for plotting\n",
    "import matplotlib as mpl\n",
    "from matplotlib import pyplot as plt\n",
    "plt.style.use('../mplstyles/stylelib/standard.mplstyle')\n",
    "\n",
    "#other computational libraries\n",
    "import numpy as np\n",
    "import pandas as pd\n",
    "import scipy.constants as co\n",
    "import scipy.stats as ss\n",
    "import itertools\n",
    "import pickle\n",
    "from scipy import signal"
   ]
  },
  {
   "cell_type": "code",
   "execution_count": 3,
   "id": "c0e2a611-040c-46e4-a484-3c58e4279131",
   "metadata": {},
   "outputs": [
    {
     "name": "stdout",
     "output_type": "stream",
     "text": [
      "         E            xn\n",
      "0  0.48223  1.665300e-18\n",
      "1  0.48232  1.723500e-18\n",
      "2  0.48240  1.782800e-18\n",
      "3  0.48248  1.843100e-18\n",
      "4  0.48257  1.904400e-18\n",
      "5  0.48265  1.966800e-18\n",
      "6  0.48274  2.030200e-18\n",
      "7  0.48282  2.094700e-18\n",
      "8  0.48291  2.160300e-18\n",
      "9  0.48299  2.226900e-18\n"
     ]
    }
   ],
   "source": [
    "azure_data = pd.read_csv(\"data/azure22Ne_an_data.txt\", skiprows=2, names=['E', 'xn'], \\\n",
    "                         delim_whitespace=True)\n",
    "print (azure_data.head(10))"
   ]
  },
  {
   "cell_type": "code",
   "execution_count": 4,
   "id": "3e9bf7d1-d1fc-461c-a805-64a907a0ee90",
   "metadata": {},
   "outputs": [
    {
     "name": "stdout",
     "output_type": "stream",
     "text": [
      "        E  dE/dx\n",
      "0  0.0010  169.5\n",
      "1  0.0015  180.2\n",
      "2  0.0020  188.2\n",
      "3  0.0025  195.0\n",
      "4  0.0030  201.0\n",
      "5  0.0040  211.8\n",
      "6  0.0050  221.6\n",
      "7  0.0060  230.8\n",
      "8  0.0070  239.6\n",
      "9  0.0080  248.0\n"
     ]
    }
   ],
   "source": [
    "dedx_data = pd.read_csv(\"data/Ne-dEdx.txt\", skiprows=8, names=['E', 'dE/dx'], \\\n",
    "                         delim_whitespace=True)\n",
    "print (dedx_data.head(10))"
   ]
  },
  {
   "cell_type": "code",
   "execution_count": null,
   "id": "7f04ac85-28a3-417e-b232-fec3e8cbc027",
   "metadata": {},
   "outputs": [],
   "source": []
  }
 ],
 "metadata": {
  "kernelspec": {
   "display_name": "Python 3",
   "language": "python",
   "name": "python3"
  },
  "language_info": {
   "codemirror_mode": {
    "name": "ipython",
    "version": 3
   },
   "file_extension": ".py",
   "mimetype": "text/x-python",
   "name": "python",
   "nbconvert_exporter": "python",
   "pygments_lexer": "ipython3",
   "version": "3.8.8"
  }
 },
 "nbformat": 4,
 "nbformat_minor": 5
}
