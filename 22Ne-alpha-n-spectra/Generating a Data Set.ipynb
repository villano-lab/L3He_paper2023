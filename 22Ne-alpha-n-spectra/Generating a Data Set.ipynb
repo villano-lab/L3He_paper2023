{
 "cells": [
  {
   "cell_type": "markdown",
   "id": "de5c29a5-13c2-4a56-9bee-484e71aeeecb",
   "metadata": {},
   "source": [
    "1. Normalize \n",
    "\n",
    "2. Get CDF (Cumulative Distribution Function)  \n",
    "\n",
    "3. Uniform"
   ]
  },
  {
   "cell_type": "code",
   "execution_count": 1,
   "id": "3ec0ba41-a51d-44e7-a487-4a4505ac5a51",
   "metadata": {},
   "outputs": [],
   "source": [
    "import numpy as np\n",
    "from sympy import symbols\n",
    "import math\n",
    "import cmath \n",
    "\n",
    "import matplotlib as mpl\n",
    "from matplotlib import pyplot as plt \n",
    "\n",
    "from scipy.stats import norm\n",
    "import seaborn as sb \n",
    "\n",
    "import lmfit as lf\n",
    "import scipy.optimize as opt \n",
    "\n",
    "from scipy.optimize import curve_fit  \n",
    "\n",
    "from scipy import special"
   ]
  },
  {
   "attachments": {
    "4a69b810-e025-4485-bd72-9f370157e733.gif": {
     "image/gif": "[encoded data removed]"
    }
   },
   "cell_type": "markdown",
   "id": "47d416de-84d7-4424-8c51-e4ae266081d9",
   "metadata": {},
   "source": [
    "## Normalization \n",
    "function has an integral of one  \n",
    "we will need to integrate gaussians \n",
    "1. define normalize gaussian functions \n",
    "\n",
    "![gif.gif](attachment:4a69b810-e025-4485-bd72-9f370157e733.gif)"
   ]
  },
  {
   "cell_type": "markdown",
   "id": "3bb1b7fe-9b65-44cc-862a-87607baa4e44",
   "metadata": {},
   "source": [
    "### Defining the Normalized Gaussian Function"
   ]
  },
  {
   "cell_type": "code",
   "execution_count": 4,
   "id": "9e6262f6-c702-4fe1-a52b-bbb59dd35f28",
   "metadata": {},
   "outputs": [
    {
     "name": "stdout",
     "output_type": "stream",
     "text": [
      "3.141592653589793\n"
     ]
    }
   ],
   "source": [
    "#defining pi \n",
    "print(math.pi) \n",
    "\n",
    "#defining e \n"
   ]
  },
  {
   "cell_type": "code",
   "execution_count": 6,
   "id": "5e6622c7-cb27-4287-a077-ec93b7b2b368",
   "metadata": {},
   "outputs": [],
   "source": [
    "def normalized(E_range,A,E1,o1,E2,o2): \n",
    "    return (A/math.sqrt(2*math.pi)*o1)(e**(-((E_range-E1)**2)/(2*(o1)**2)))+((1-A)/sqrt(2*pi)*o2)(e**(-((E_range-E2)**2)/(2*(o2)**2)))\n"
   ]
  },
  {
   "cell_type": "markdown",
   "id": "73da226f-4fd8-4ec6-9d86-db8f8728399d",
   "metadata": {},
   "source": [
    "### Values"
   ]
  },
  {
   "cell_type": "code",
   "execution_count": 7,
   "id": "2f9b12fc-510a-42a3-a007-e6ba0efe31cc",
   "metadata": {},
   "outputs": [],
   "source": [
    "E_range = np.linspace(0, 20, 1000)\n",
    "\n",
    "A=.7\n",
    "\n",
    "E1= 10 \n",
    "o1= 1\n",
    "\n",
    "E2= 4\n",
    "o2= 1"
   ]
  },
  {
   "cell_type": "markdown",
   "id": "e6c57a01-a6de-46bb-90d1-510dfe78a868",
   "metadata": {},
   "source": [
    "### Plot "
   ]
  },
  {
   "cell_type": "code",
   "execution_count": 8,
   "id": "6f770bda-55d5-4248-b0eb-c5b24419fb71",
   "metadata": {},
   "outputs": [
    {
     "ename": "NameError",
     "evalue": "name 'e' is not defined",
     "output_type": "error",
     "traceback": [
      "\u001b[1;31m---------------------------------------------------------------------------\u001b[0m",
      "\u001b[1;31mNameError\u001b[0m                                 Traceback (most recent call last)",
      "Cell \u001b[1;32mIn[8], line 1\u001b[0m\n\u001b[1;32m----> 1\u001b[0m plt\u001b[38;5;241m.\u001b[39mplot(E_range, \u001b[43mnormalized\u001b[49m\u001b[43m(\u001b[49m\u001b[43mE_range\u001b[49m\u001b[43m,\u001b[49m\u001b[43mA\u001b[49m\u001b[43m,\u001b[49m\u001b[43mE1\u001b[49m\u001b[43m,\u001b[49m\u001b[43mo1\u001b[49m\u001b[43m,\u001b[49m\u001b[43mE2\u001b[49m\u001b[43m,\u001b[49m\u001b[43mo2\u001b[49m\u001b[43m)\u001b[49m)\n",
      "Cell \u001b[1;32mIn[6], line 2\u001b[0m, in \u001b[0;36mnormalized\u001b[1;34m(E_range, A, E1, o1, E2, o2)\u001b[0m\n\u001b[0;32m      1\u001b[0m \u001b[38;5;28;01mdef\u001b[39;00m \u001b[38;5;21mnormalized\u001b[39m(E_range,A,E1,o1,E2,o2): \n\u001b[1;32m----> 2\u001b[0m     \u001b[38;5;28;01mreturn\u001b[39;00m (A\u001b[38;5;241m/\u001b[39mmath\u001b[38;5;241m.\u001b[39msqrt(\u001b[38;5;241m2\u001b[39m\u001b[38;5;241m*\u001b[39mmath\u001b[38;5;241m.\u001b[39mpi)\u001b[38;5;241m*\u001b[39mo1)(\u001b[43me\u001b[49m\u001b[38;5;241m*\u001b[39m\u001b[38;5;241m*\u001b[39m(\u001b[38;5;241m-\u001b[39m((E_range\u001b[38;5;241m-\u001b[39mE1)\u001b[38;5;241m*\u001b[39m\u001b[38;5;241m*\u001b[39m\u001b[38;5;241m2\u001b[39m)\u001b[38;5;241m/\u001b[39m(\u001b[38;5;241m2\u001b[39m\u001b[38;5;241m*\u001b[39m(o1)\u001b[38;5;241m*\u001b[39m\u001b[38;5;241m*\u001b[39m\u001b[38;5;241m2\u001b[39m)))\u001b[38;5;241m+\u001b[39m((\u001b[38;5;241m1\u001b[39m\u001b[38;5;241m-\u001b[39mA)\u001b[38;5;241m/\u001b[39msqrt(\u001b[38;5;241m2\u001b[39m\u001b[38;5;241m*\u001b[39mpi)\u001b[38;5;241m*\u001b[39mo2)(e\u001b[38;5;241m*\u001b[39m\u001b[38;5;241m*\u001b[39m(\u001b[38;5;241m-\u001b[39m((E_range\u001b[38;5;241m-\u001b[39mE2)\u001b[38;5;241m*\u001b[39m\u001b[38;5;241m*\u001b[39m\u001b[38;5;241m2\u001b[39m)\u001b[38;5;241m/\u001b[39m(\u001b[38;5;241m2\u001b[39m\u001b[38;5;241m*\u001b[39m(o2)\u001b[38;5;241m*\u001b[39m\u001b[38;5;241m*\u001b[39m\u001b[38;5;241m2\u001b[39m)))\n",
      "\u001b[1;31mNameError\u001b[0m: name 'e' is not defined"
     ]
    }
   ],
   "source": [
    "plt.plot(E_range, normalized(E_range,A,E1,o1,E2,o2))"
   ]
  }
 ],
 "metadata": {
  "kernelspec": {
   "display_name": "Python 3 (ipykernel)",
   "language": "python",
   "name": "python3"
  },
  "language_info": {
   "codemirror_mode": {
    "name": "ipython",
    "version": 3
   },
   "file_extension": ".py",
   "mimetype": "text/x-python",
   "name": "python",
   "nbconvert_exporter": "python",
   "pygments_lexer": "ipython3",
   "version": "3.10.9"
  }
 },
 "nbformat": 4,
 "nbformat_minor": 5
}
