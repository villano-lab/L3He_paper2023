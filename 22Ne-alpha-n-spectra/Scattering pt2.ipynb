{
 "cells": [
  {
   "cell_type": "markdown",
   "id": "1529913c-83e0-467e-b9df-3bec739abac3",
   "metadata": {},
   "source": [
    "# Calculating Seperately Then Plotting\n",
    "Theta, Cos(theta), HV, Klien-Nishina Formula"
   ]
  },
  {
   "attachments": {
    "8d9c919a-d321-473f-84ff-671a44ac03c6.gif": {
     "image/gif": "[encoded data removed]"
    },
    "c8408695-680d-49f9-8d05-765254edd3cc.gif": {
     "image/gif": "[encoded data removed]"
    }
   },
   "cell_type": "markdown",
   "id": "165e8c9c-19de-4a4b-829a-e211c6a9b176",
   "metadata": {},
   "source": [
    "### Important Equations\n",
    "#### Compon Scattering \n",
    "![download.gif](attachment:8d9c919a-d321-473f-84ff-671a44ac03c6.gif)\n",
    "#### Klein-Nishina Formula \n",
    "![download.gif](attachment:c8408695-680d-49f9-8d05-765254edd3cc.gif)"
   ]
  },
  {
   "cell_type": "code",
   "execution_count": 1,
   "id": "3987b8fb-32d7-413b-aaec-b9bd6600b0e5",
   "metadata": {},
   "outputs": [],
   "source": [
    "import numpy as np\n",
    "from sympy import symbols\n",
    "import math\n",
    "import cmath \n",
    "\n",
    "import matplotlib as mpl\n",
    "from matplotlib import pyplot as plt \n",
    "\n",
    "from scipy.stats import norm\n",
    "import seaborn as sb \n",
    "\n",
    "import lmfit as lf\n",
    "import scipy.optimize as opt \n",
    "\n",
    "from scipy.optimize import curve_fit "
   ]
  },
  {
   "cell_type": "markdown",
   "id": "8740b4db-49fc-4bd7-a77a-5e0f59e4ab23",
   "metadata": {},
   "source": [
    "### Calculating Cosine Values From 1 to -1"
   ]
  },
  {
   "cell_type": "code",
   "execution_count": 2,
   "id": "e15d1fbb-8a7c-4e06-879e-b6d702b4bfca",
   "metadata": {},
   "outputs": [
    {
     "name": "stdout",
     "output_type": "stream",
     "text": [
      "[ 1.          0.99999506  0.99998022  0.9999555   0.99992089  0.99987639\n",
      "  0.999822    0.99975772  0.99968356  0.99959951  0.99950557  0.99940175\n",
      "  0.99928805  0.99916446  0.999031    0.99888765  0.99873443  0.99857133\n",
      "  0.99839835  0.9982155   0.99802278  0.99782019  0.99760773  0.9973854\n",
      "  0.99715321  0.99691116  0.99665925  0.99639749  0.99612587  0.9958444\n",
      "  0.99555308  0.99525192  0.99494091  0.99462007  0.99428939  0.99394887\n",
      "  0.99359853  0.99323836  0.99286837  0.99248855  0.99209893  0.99169949\n",
      "  0.99129025  0.9908712   0.99044235  0.99000371  0.98955528  0.98909706\n",
      "  0.98862906  0.98815128  0.98766373  0.98716641  0.98665934  0.9861425\n",
      "  0.98561591  0.98507957  0.9845335   0.98397768  0.98341214  0.98283687\n",
      "  0.98225188  0.98165717  0.98105276  0.98043865  0.97981484  0.97918134\n",
      "  0.97853816  0.9778853   0.97722277  0.97655057  0.97586872  0.97517722\n",
      "  0.97447607  0.97376528  0.97304487  0.97231483  0.97157518  0.97082592\n",
      "  0.97006706  0.96929861  0.96852057  0.96773295  0.96693576  0.96612901\n",
      "  0.9653127   0.96448685  0.96365146  0.96280654  0.9619521   0.96108814\n",
      "  0.96021469  0.95933173  0.95843929  0.95753737  0.95662598  0.95570513\n",
      "  0.95477483  0.95383508  0.95288591  0.95192731  0.95095929  0.94998187\n",
      "  0.94899506  0.94799886  0.94699329  0.94597835  0.94495406  0.94392042\n",
      "  0.94287745  0.94182515  0.94076354  0.93969262  0.93861241  0.93752292\n",
      "  0.93642416  0.93531614  0.93419886  0.93307235  0.93193662  0.93079166\n",
      "  0.9296375   0.92847415  0.92730161  0.92611991  0.92492904  0.92372903\n",
      "  0.92251988  0.92130162  0.92007423  0.91883775  0.91759219  0.91633755\n",
      "  0.91507385  0.91380109  0.9125193   0.91122849  0.90992867  0.90861984\n",
      "  0.90730203  0.90597525  0.90463951  0.90329482  0.9019412   0.90057866\n",
      "  0.89920721  0.89782688  0.89643766  0.89503957  0.89363264  0.89221687\n",
      "  0.89079227  0.88935887  0.88791667  0.88646569  0.88500594  0.88353744\n",
      "  0.8820602   0.88057424  0.87907957  0.87757621  0.87606417  0.87454347\n",
      "  0.87301411  0.87147613  0.86992952  0.86837431  0.86681052  0.86523815\n",
      "  0.86365722  0.86206776  0.86046977  0.85886327  0.85724827  0.8556248\n",
      "  0.85399287  0.85235249  0.85070368  0.84904646  0.84738084  0.84570685\n",
      "  0.84402448  0.84233378  0.84063474  0.83892739  0.83721174  0.83548781\n",
      "  0.83375562  0.83201519  0.83026652  0.82850965  0.82674458  0.82497134\n",
      "  0.82318994  0.82140039  0.81960273  0.81779696  0.8159831   0.81416117\n",
      "  0.81233119  0.81049318  0.80864715  0.80679312  0.80493112  0.80306115\n",
      "  0.80118325  0.79929742  0.79740368  0.79550207  0.79359258  0.79167524\n",
      "  0.78975008  0.78781711  0.78587634  0.7839278   0.78197151  0.78000749\n",
      "  0.77803575  0.77605632  0.77406922  0.77207446  0.77007206  0.76806205\n",
      "  0.76604444  0.76401926  0.76198652  0.75994625  0.75789846  0.75584317\n",
      "  0.75378041  0.7517102   0.74963255  0.74754749  0.74545504  0.74335521\n",
      "  0.74124804  0.73913353  0.73701171  0.7348826   0.73274623  0.73060261\n",
      "  0.72845177  0.72629372  0.72412849  0.72195609  0.71977656  0.71758991\n",
      "  0.71539616  0.71319534  0.71098747  0.70877256  0.70655065  0.70432174\n",
      "  0.70208588  0.69984306  0.69759333  0.6953367   0.69307319  0.69080283\n",
      "  0.68852564  0.68624164  0.68395085  0.6816533   0.679349    0.67703799\n",
      "  0.67472028  0.6723959   0.67006487  0.66772722  0.66538296  0.66303212\n",
      "  0.66067472  0.65831079  0.65594035  0.65356343  0.65118003  0.6487902\n",
      "  0.64639396  0.64399132  0.64158231  0.63916696  0.63674529  0.63431732\n",
      "  0.63188307  0.62944258  0.62699586  0.62454294  0.62208385  0.6196186\n",
      "  0.61714723  0.61466975  0.6121862   0.60969659  0.60720095  0.60469931\n",
      "  0.60219168  0.5996781   0.59715859  0.59463318  0.59210188  0.58956473\n",
      "  0.58702175  0.58447296  0.58191839  0.57935807  0.57679202  0.57422026\n",
      "  0.57164283  0.56905974  0.56647103  0.56387671  0.56127682  0.55867137\n",
      "  0.5560604   0.55344393  0.55082199  0.5481946   0.54556179  0.54292359\n",
      "  0.54028001  0.5376311   0.53497686  0.53231734  0.52965255  0.52698252\n",
      "  0.52430728  0.52162686  0.51894128  0.51625056  0.51355474  0.51085385\n",
      "  0.5081479   0.50543692  0.50272095  0.5         0.49727411  0.4945433\n",
      "  0.4918076   0.48906704  0.48632164  0.48357143  0.48081644  0.4780567\n",
      "  0.47529222  0.47252305  0.4697492   0.46697071  0.4641876   0.4613999\n",
      "  0.45860764  0.45581084  0.45300953  0.45020374  0.44739351  0.44457884\n",
      "  0.44175978  0.43893635  0.43610858  0.4332765   0.43044014  0.42759951\n",
      "  0.42475466  0.42190561  0.41905238  0.41619501  0.41333353  0.41046795\n",
      "  0.40759832  0.40472466  0.40184699  0.39896535  0.39607977  0.39319026\n",
      "  0.39029687  0.38739962  0.38449854  0.38159366  0.378685    0.3757726\n",
      "  0.37285648  0.36993667  0.36701321  0.36408611  0.36115542  0.35822115\n",
      "  0.35528334  0.35234202  0.34939721  0.34644895  0.34349726  0.34054218\n",
      "  0.33758372  0.33462193  0.33165683  0.32868845  0.32571682  0.32274197\n",
      "  0.31976392  0.31678272  0.31379838  0.31081094  0.30782042  0.30482686\n",
      "  0.30183029  0.29883073  0.29582821  0.29282277  0.28981444  0.28680323\n",
      "  0.28378919  0.28077235  0.27775273  0.27473036  0.27170527  0.2686775\n",
      "  0.26564707  0.26261401  0.25957836  0.25654014  0.25349938  0.25045612\n",
      "  0.24741038  0.24436219  0.24131158  0.23825859  0.23520324  0.23214557\n",
      "  0.2290856   0.22602337  0.2229589   0.21989222  0.21682337  0.21375238\n",
      "  0.21067927  0.20760408  0.20452683  0.20144757  0.19836631  0.19528309\n",
      "  0.19219794  0.18911088  0.18602196  0.1829312   0.17983863  0.17674428\n",
      "  0.17364818  0.17055036  0.16745086  0.1643497   0.16124692  0.15814254\n",
      "  0.1550366   0.15192912  0.14882015  0.1457097   0.14259781  0.13948451\n",
      "  0.13636983  0.1332538   0.13013645  0.12701782  0.12389793  0.12077682\n",
      "  0.11765451  0.11453103  0.11140643  0.10828072  0.10515394  0.10202613\n",
      "  0.0988973   0.0957675   0.09263674  0.08950508  0.08637252  0.08323912\n",
      "  0.08010489  0.07696986  0.07383408  0.07069757  0.06756035  0.06442247\n",
      "  0.06128395  0.05814483  0.05500513  0.05186489  0.04872413  0.04558289\n",
      "  0.0424412   0.03929909  0.0361566   0.03301374  0.02987056  0.02672708\n",
      "  0.02358334  0.02043937  0.01729519  0.01415085  0.01100636  0.00786176\n",
      "  0.00471709  0.00157237 -0.00157237 -0.00471709 -0.00786176 -0.01100636\n",
      " -0.01415085 -0.01729519 -0.02043937 -0.02358334 -0.02672708 -0.02987056\n",
      " -0.03301374 -0.0361566  -0.03929909 -0.0424412  -0.04558289 -0.04872413\n",
      " -0.05186489 -0.05500513 -0.05814483 -0.06128395 -0.06442247 -0.06756035\n",
      " -0.07069757 -0.07383408 -0.07696986 -0.08010489 -0.08323912 -0.08637252\n",
      " -0.08950508 -0.09263674 -0.0957675  -0.0988973  -0.10202613 -0.10515394\n",
      " -0.10828072 -0.11140643 -0.11453103 -0.11765451 -0.12077682 -0.12389793\n",
      " -0.12701782 -0.13013645 -0.1332538  -0.13636983 -0.13948451 -0.14259781\n",
      " -0.1457097  -0.14882015 -0.15192912 -0.1550366  -0.15814254 -0.16124692\n",
      " -0.1643497  -0.16745086 -0.17055036 -0.17364818 -0.17674428 -0.17983863\n",
      " -0.1829312  -0.18602196 -0.18911088 -0.19219794 -0.19528309 -0.19836631\n",
      " -0.20144757 -0.20452683 -0.20760408 -0.21067927 -0.21375238 -0.21682337\n",
      " -0.21989222 -0.2229589  -0.22602337 -0.2290856  -0.23214557 -0.23520324\n",
      " -0.23825859 -0.24131158 -0.24436219 -0.24741038 -0.25045612 -0.25349938\n",
      " -0.25654014 -0.25957836 -0.26261401 -0.26564707 -0.2686775  -0.27170527\n",
      " -0.27473036 -0.27775273 -0.28077235 -0.28378919 -0.28680323 -0.28981444\n",
      " -0.29282277 -0.29582821 -0.29883073 -0.30183029 -0.30482686 -0.30782042\n",
      " -0.31081094 -0.31379838 -0.31678272 -0.31976392 -0.32274197 -0.32571682\n",
      " -0.32868845 -0.33165683 -0.33462193 -0.33758372 -0.34054218 -0.34349726\n",
      " -0.34644895 -0.34939721 -0.35234202 -0.35528334 -0.35822115 -0.36115542\n",
      " -0.36408611 -0.36701321 -0.36993667 -0.37285648 -0.3757726  -0.378685\n",
      " -0.38159366 -0.38449854 -0.38739962 -0.39029687 -0.39319026 -0.39607977\n",
      " -0.39896535 -0.40184699 -0.40472466 -0.40759832 -0.41046795 -0.41333353\n",
      " -0.41619501 -0.41905238 -0.42190561 -0.42475466 -0.42759951 -0.43044014\n",
      " -0.4332765  -0.43610858 -0.43893635 -0.44175978 -0.44457884 -0.44739351\n",
      " -0.45020374 -0.45300953 -0.45581084 -0.45860764 -0.4613999  -0.4641876\n",
      " -0.46697071 -0.4697492  -0.47252305 -0.47529222 -0.4780567  -0.48081644\n",
      " -0.48357143 -0.48632164 -0.48906704 -0.4918076  -0.4945433  -0.49727411\n",
      " -0.5        -0.50272095 -0.50543692 -0.5081479  -0.51085385 -0.51355474\n",
      " -0.51625056 -0.51894128 -0.52162686 -0.52430728 -0.52698252 -0.52965255\n",
      " -0.53231734 -0.53497686 -0.5376311  -0.54028001 -0.54292359 -0.54556179\n",
      " -0.5481946  -0.55082199 -0.55344393 -0.5560604  -0.55867137 -0.56127682\n",
      " -0.56387671 -0.56647103 -0.56905974 -0.57164283 -0.57422026 -0.57679202\n",
      " -0.57935807 -0.58191839 -0.58447296 -0.58702175 -0.58956473 -0.59210188\n",
      " -0.59463318 -0.59715859 -0.5996781  -0.60219168 -0.60469931 -0.60720095\n",
      " -0.60969659 -0.6121862  -0.61466975 -0.61714723 -0.6196186  -0.62208385\n",
      " -0.62454294 -0.62699586 -0.62944258 -0.63188307 -0.63431732 -0.63674529\n",
      " -0.63916696 -0.64158231 -0.64399132 -0.64639396 -0.6487902  -0.65118003\n",
      " -0.65356343 -0.65594035 -0.65831079 -0.66067472 -0.66303212 -0.66538296\n",
      " -0.66772722 -0.67006487 -0.6723959  -0.67472028 -0.67703799 -0.679349\n",
      " -0.6816533  -0.68395085 -0.68624164 -0.68852564 -0.69080283 -0.69307319\n",
      " -0.6953367  -0.69759333 -0.69984306 -0.70208588 -0.70432174 -0.70655065\n",
      " -0.70877256 -0.71098747 -0.71319534 -0.71539616 -0.71758991 -0.71977656\n",
      " -0.72195609 -0.72412849 -0.72629372 -0.72845177 -0.73060261 -0.73274623\n",
      " -0.7348826  -0.73701171 -0.73913353 -0.74124804 -0.74335521 -0.74545504\n",
      " -0.74754749 -0.74963255 -0.7517102  -0.75378041 -0.75584317 -0.75789846\n",
      " -0.75994625 -0.76198652 -0.76401926 -0.76604444 -0.76806205 -0.77007206\n",
      " -0.77207446 -0.77406922 -0.77605632 -0.77803575 -0.78000749 -0.78197151\n",
      " -0.7839278  -0.78587634 -0.78781711 -0.78975008 -0.79167524 -0.79359258\n",
      " -0.79550207 -0.79740368 -0.79929742 -0.80118325 -0.80306115 -0.80493112\n",
      " -0.80679312 -0.80864715 -0.81049318 -0.81233119 -0.81416117 -0.8159831\n",
      " -0.81779696 -0.81960273 -0.82140039 -0.82318994 -0.82497134 -0.82674458\n",
      " -0.82850965 -0.83026652 -0.83201519 -0.83375562 -0.83548781 -0.83721174\n",
      " -0.83892739 -0.84063474 -0.84233378 -0.84402448 -0.84570685 -0.84738084\n",
      " -0.84904646 -0.85070368 -0.85235249 -0.85399287 -0.8556248  -0.85724827\n",
      " -0.85886327 -0.86046977 -0.86206776 -0.86365722 -0.86523815 -0.86681052\n",
      " -0.86837431 -0.86992952 -0.87147613 -0.87301411 -0.87454347 -0.87606417\n",
      " -0.87757621 -0.87907957 -0.88057424 -0.8820602  -0.88353744 -0.88500594\n",
      " -0.88646569 -0.88791667 -0.88935887 -0.89079227 -0.89221687 -0.89363264\n",
      " -0.89503957 -0.89643766 -0.89782688 -0.89920721 -0.90057866 -0.9019412\n",
      " -0.90329482 -0.90463951 -0.90597525 -0.90730203 -0.90861984 -0.90992867\n",
      " -0.91122849 -0.9125193  -0.91380109 -0.91507385 -0.91633755 -0.91759219\n",
      " -0.91883775 -0.92007423 -0.92130162 -0.92251988 -0.92372903 -0.92492904\n",
      " -0.92611991 -0.92730161 -0.92847415 -0.9296375  -0.93079166 -0.93193662\n",
      " -0.93307235 -0.93419886 -0.93531614 -0.93642416 -0.93752292 -0.93861241\n",
      " -0.93969262 -0.94076354 -0.94182515 -0.94287745 -0.94392042 -0.94495406\n",
      " -0.94597835 -0.94699329 -0.94799886 -0.94899506 -0.94998187 -0.95095929\n",
      " -0.95192731 -0.95288591 -0.95383508 -0.95477483 -0.95570513 -0.95662598\n",
      " -0.95753737 -0.95843929 -0.95933173 -0.96021469 -0.96108814 -0.9619521\n",
      " -0.96280654 -0.96365146 -0.96448685 -0.9653127  -0.96612901 -0.96693576\n",
      " -0.96773295 -0.96852057 -0.96929861 -0.97006706 -0.97082592 -0.97157518\n",
      " -0.97231483 -0.97304487 -0.97376528 -0.97447607 -0.97517722 -0.97586872\n",
      " -0.97655057 -0.97722277 -0.9778853  -0.97853816 -0.97918134 -0.97981484\n",
      " -0.98043865 -0.98105276 -0.98165717 -0.98225188 -0.98283687 -0.98341214\n",
      " -0.98397768 -0.9845335  -0.98507957 -0.98561591 -0.9861425  -0.98665934\n",
      " -0.98716641 -0.98766373 -0.98815128 -0.98862906 -0.98909706 -0.98955528\n",
      " -0.99000371 -0.99044235 -0.9908712  -0.99129025 -0.99169949 -0.99209893\n",
      " -0.99248855 -0.99286837 -0.99323836 -0.99359853 -0.99394887 -0.99428939\n",
      " -0.99462007 -0.99494091 -0.99525192 -0.99555308 -0.9958444  -0.99612587\n",
      " -0.99639749 -0.99665925 -0.99691116 -0.99715321 -0.9973854  -0.99760773\n",
      " -0.99782019 -0.99802278 -0.9982155  -0.99839835 -0.99857133 -0.99873443\n",
      " -0.99888765 -0.999031   -0.99916446 -0.99928805 -0.99940175 -0.99950557\n",
      " -0.99959951 -0.99968356 -0.99975772 -0.999822   -0.99987639 -0.99992089\n",
      " -0.9999555  -0.99998022 -0.99999506 -1.        ]\n"
     ]
    }
   ],
   "source": [
    "num_points = 1000\n",
    "a_values = np.linspace(0, np.pi, num_points) \n",
    "cos_values = np.cos(a_values) \n",
    "print(cos_values)"
   ]
  },
  {
   "cell_type": "markdown",
   "id": "b356016d-9a1a-49e8-844d-32c2189f9492",
   "metadata": {},
   "source": [
    "### Calcualting hv'"
   ]
  },
  {
   "attachments": {
    "73a78ed6-e925-465b-a819-6b3c0614847f.gif": {
     "image/gif": "[encoded data removed]"
    }
   },
   "cell_type": "markdown",
   "id": "e0cd5416-46e7-4ecb-8b21-a456710275e0",
   "metadata": {},
   "source": [
    "![download.gif](attachment:73a78ed6-e925-465b-a819-6b3c0614847f.gif) \n",
    "\n",
    "To calculate hv' we need hv,moc^2 and cosine theta \n",
    "\n",
    "hv=2 \n",
    "\n",
    "moc^2=0.511 MeV"
   ]
  },
  {
   "cell_type": "markdown",
   "id": "9adaeb85-3b0f-4a61-99e5-3a12d2a9ac13",
   "metadata": {},
   "source": [
    "#### Step One Calculate Cos(Theta)"
   ]
  },
  {
   "cell_type": "code",
   "execution_count": 14,
   "id": "ce7909d2-c9e0-4f6b-9907-4828221bd5f9",
   "metadata": {},
   "outputs": [
    {
     "name": "stdout",
     "output_type": "stream",
     "text": [
      "[0.05, 0.1, 0.15, 0.2, 0.25, 0.3, 0.35, 0.4, 0.45, 0.5, 0.55, 0.6, 0.65, 0.7, 0.75, 0.8, 0.85, 0.9, 0.95, 1.0, 1.05, 1.1, 1.15, 1.2, 1.25, 1.3, 1.35, 1.4, 1.45, 1.5, 1.55, 1.6, 1.65, 1.7, 1.75, 1.8, 1.85, 1.9, 1.95, 2.0]\n"
     ]
    }
   ],
   "source": [
    "#Solving for numbers between 0 and 2 \n",
    "#hv_values=[x/100 for x in range(5,201,5)] \n",
    "#np.array(hv_values)\n",
    "#print(hv_values)"
   ]
  },
  {
   "cell_type": "code",
   "execution_count": 53,
   "id": "ad33692f-9d36-4d79-9e26-25396a7b2d1d",
   "metadata": {},
   "outputs": [
    {
     "name": "stdout",
     "output_type": "stream",
     "text": [
      "[0.05, 0.1, 0.15, 0.2, 0.25, 0.3, 0.35, 0.4, 0.45, 0.5, 0.55, 0.6, 0.65, 0.7, 0.75, 0.8, 0.85, 0.9, 0.95, 1.0, 1.05, 1.1, 1.15, 1.2, 1.25, 1.3, 1.35, 1.4, 1.45, 1.5, 1.55, 1.6, 1.65, 1.7, 1.75, 1.8, 1.85, 1.9, 1.95, 2.0]\n",
      "[0.05 0.1  0.15 0.2  0.25 0.3  0.35 0.4  0.45 0.5  0.55 0.6  0.65 0.7\n",
      " 0.75 0.8  0.85 0.9  0.95 1.   1.05 1.1  1.15 1.2  1.25 1.3  1.35 1.4\n",
      " 1.45 1.5  1.55 1.6  1.65 1.7  1.75 1.8  1.85 1.9  1.95 2.  ]\n"
     ]
    }
   ],
   "source": [
    "hv_values=list(x/100 for x in range(5,201,5))\n",
    "print(hv_values)\n",
    "hv_v=np.array(hv_values)\n",
    "print(hv_v)"
   ]
  },
  {
   "cell_type": "markdown",
   "id": "6ceaacba-b2cd-4d9c-b39e-40ac904162ce",
   "metadata": {},
   "source": [
    "### Calculating Theta"
   ]
  },
  {
   "cell_type": "code",
   "execution_count": null,
   "id": "a3343ac0-9832-4fc6-9ca9-5e2c77cf6f5b",
   "metadata": {},
   "outputs": [],
   "source": [
    "#Rearranged the equation to solve for theata\n",
    "#theta = np.arccos(1 - ((2 / hv') - 1) / (hv' / 0.511))"
   ]
  },
  {
   "cell_type": "code",
   "execution_count": 57,
   "id": "3782a912-6280-4650-b841-1cd0f8cd70f2",
   "metadata": {},
   "outputs": [
    {
     "name": "stdout",
     "output_type": "stream",
     "text": [
      "[       nan        nan        nan        nan 2.47916261 2.03513694\n",
      " 1.77674921 1.5927981  1.4505624  1.33512069 1.23829424 1.15509313\n",
      " 1.08224617 1.01749363 0.95921037 0.90618911 0.8575086  0.8124495\n",
      " 0.77043862 0.73101073 0.69378167 0.65842886 0.62467681 0.592286\n",
      " 0.56104417 0.53075909 0.50125232 0.47235339 0.44389398 0.41570131\n",
      " 0.38759012 0.35935172 0.33073773 0.30143389 0.27101376 0.23884822\n",
      " 0.20390263 0.16418048 0.11452902 0.        ]\n"
     ]
    },
    {
     "name": "stderr",
     "output_type": "stream",
     "text": [
      "C:\\Users\\Isikinz\\AppData\\Local\\Temp\\ipykernel_39388\\2463457765.py:1: RuntimeWarning: invalid value encountered in arccos\n",
      "  theta = np.arccos(1 - ((2 / hv_v) - 1) / (2 / 0.511))\n"
     ]
    }
   ],
   "source": [
    "theta = np.arccos(1 - ((2 / hv_v) - 1) / (2 / 0.511)) \n",
    "print(theta)"
   ]
  },
  {
   "cell_type": "markdown",
   "id": "171644d4-abe4-49cf-9dd8-081cfc7484c8",
   "metadata": {},
   "source": [
    "### Plugging Theta to get hv'"
   ]
  },
  {
   "cell_type": "code",
   "execution_count": 58,
   "id": "a867fb3a-7525-4dc2-9922-10032c5a0acd",
   "metadata": {},
   "outputs": [
    {
     "name": "stderr",
     "output_type": "stream",
     "text": [
      "C:\\Users\\Isikinz\\AppData\\Local\\Temp\\ipykernel_39388\\1803756203.py:2: RuntimeWarning: invalid value encountered in arccos\n",
      "  theta = np.arccos(1 - ((2 / hv_v) - 1) / (2 / 0.511))\n"
     ]
    },
    {
     "ename": "TypeError",
     "evalue": "only size-1 arrays can be converted to Python scalars",
     "output_type": "error",
     "traceback": [
      "\u001b[1;31m---------------------------------------------------------------------------\u001b[0m",
      "\u001b[1;31mTypeError\u001b[0m                                 Traceback (most recent call last)",
      "Cell \u001b[1;32mIn[58], line 3\u001b[0m\n\u001b[0;32m      1\u001b[0m \u001b[38;5;28;01mfor\u001b[39;00m hv \u001b[38;5;129;01min\u001b[39;00m hv_values:\n\u001b[0;32m      2\u001b[0m     theta \u001b[38;5;241m=\u001b[39m np\u001b[38;5;241m.\u001b[39marccos(\u001b[38;5;241m1\u001b[39m \u001b[38;5;241m-\u001b[39m ((\u001b[38;5;241m2\u001b[39m \u001b[38;5;241m/\u001b[39m hv_v) \u001b[38;5;241m-\u001b[39m \u001b[38;5;241m1\u001b[39m) \u001b[38;5;241m/\u001b[39m (\u001b[38;5;241m2\u001b[39m \u001b[38;5;241m/\u001b[39m \u001b[38;5;241m0.511\u001b[39m)) \n\u001b[1;32m----> 3\u001b[0m     theta_degrees \u001b[38;5;241m=\u001b[39m \u001b[43mmath\u001b[49m\u001b[38;5;241;43m.\u001b[39;49m\u001b[43mdegrees\u001b[49m\u001b[43m(\u001b[49m\u001b[43mtheta\u001b[49m\u001b[43m)\u001b[49m \n\u001b[0;32m      4\u001b[0m     \u001b[38;5;28mprint\u001b[39m(\u001b[38;5;124mf\u001b[39m\u001b[38;5;124m\"\u001b[39m\u001b[38;5;124mhv: \u001b[39m\u001b[38;5;132;01m{\u001b[39;00mhv\u001b[38;5;132;01m}\u001b[39;00m\u001b[38;5;124m, \u001b[39m\u001b[38;5;132;01m{\u001b[39;00mtheta_degrees\u001b[38;5;132;01m}\u001b[39;00m\u001b[38;5;124m\"\u001b[39m)\n",
      "\u001b[1;31mTypeError\u001b[0m: only size-1 arrays can be converted to Python scalars"
     ]
    }
   ],
   "source": [
    "for hv in hv_values:\n",
    "    theta = np.arccos(1 - ((2 / hv_v) - 1) / (2 / 0.511)) \n",
    "    theta_degrees = math.degrees(theta) \n",
    "    print(f\"hv: {hv}, {theta_degrees}\")"
   ]
  }
 ],
 "metadata": {
  "kernelspec": {
   "display_name": "Python 3 (ipykernel)",
   "language": "python",
   "name": "python3"
  },
  "language_info": {
   "codemirror_mode": {
    "name": "ipython",
    "version": 3
   },
   "file_extension": ".py",
   "mimetype": "text/x-python",
   "name": "python",
   "nbconvert_exporter": "python",
   "pygments_lexer": "ipython3",
   "version": "3.10.9"
  }
 },
 "nbformat": 4,
 "nbformat_minor": 5
}
