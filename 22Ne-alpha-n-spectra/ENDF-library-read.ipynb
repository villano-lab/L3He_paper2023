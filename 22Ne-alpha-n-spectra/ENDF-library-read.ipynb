{
 "cells": [
  {
   "cell_type": "code",
   "execution_count": 1,
   "id": "f4d7d118-ce0b-4f57-97f3-77af63dd7a13",
   "metadata": {},
   "outputs": [],
   "source": [
    "#we may need some code in the ../python directory and/or matplotlib styles\n",
    "import sys\n",
    "sys.path.append('../python/')\n",
    "\n",
    "#matplotlib for plotting\n",
    "import matplotlib as mpl\n",
    "from matplotlib import pyplot as plt\n",
    "plt.style.use('../mplstyles/stylelib/standard.mplstyle')\n",
    "\n",
    "import numpy as np"
   ]
  },
  {
   "cell_type": "code",
   "execution_count": null,
   "id": "d694bc3c-7c83-4a53-80cd-085be07eef19",
   "metadata": {},
   "outputs": [],
   "source": [
    "import ENDF6\n",
    "\n",
    "#get some cross section data\n",
    "f = open('data/JENDL-files/jendl_3He.endf')\n",
    "lines = f.readlines()\n",
    "sec = ENDF6.find_section(lines, MF=3, MT=2)  # elastic cross section cross-section\n",
    "x, y = ENDF6.read_table(sec)\n",
    "\n",
    "#plot quick\n",
    "fig = plt.figure()\n",
    "ax1 = fig.add_subplot(111)\n",
    "plot(x, y)\n",
    "ax1.set_yscale('log')\n",
    "ax1.set_xscale('log')\n",
    "xlabel('Neutron energy [eV]')\n",
    "ylabel('Cross-section [barn]')\n",
    "#plt.savefig('3Hexn.png')\n",
    "show()"
   ]
  }
 ],
 "metadata": {
  "kernelspec": {
   "display_name": "Python (fano_5_2024)",
   "language": "python",
   "name": "fano_5_2024"
  },
  "language_info": {
   "codemirror_mode": {
    "name": "ipython",
    "version": 3
   },
   "file_extension": ".py",
   "mimetype": "text/x-python",
   "name": "python",
   "nbconvert_exporter": "python",
   "pygments_lexer": "ipython3",
   "version": "3.9.19"
  }
 },
 "nbformat": 4,
 "nbformat_minor": 5
}
