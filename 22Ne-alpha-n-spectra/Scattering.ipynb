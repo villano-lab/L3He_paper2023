{
 "cells": [
  {
   "attachments": {
    "508e924a-1f52-4cd0-bba2-4e9505018e82.gif": {
     "image/gif": "[encoded data removed]"
    }
   },
   "cell_type": "markdown",
   "id": "4526f677-116a-46b8-83d0-00a977a414ae",
   "metadata": {},
   "source": [
    "## equation for hv' (compton scattering) \n",
    "![gif.gif](attachment:508e924a-1f52-4cd0-bba2-4e9505018e82.gif)"
   ]
  },
  {
   "cell_type": "code",
   "execution_count": 1,
   "id": "779e30d5-0a74-46e3-acbe-1569c6f8ed5a",
   "metadata": {},
   "outputs": [],
   "source": [
    "import numpy as np\n",
    "from sympy import symbols\n",
    "import math\n",
    "import cmath \n",
    "\n",
    "import matplotlib as mpl\n",
    "from matplotlib import pyplot as plt \n",
    "\n",
    "from scipy.stats import norm\n",
    "import seaborn as sb \n",
    "\n",
    "import lmfit as lf\n",
    "import scipy.optimize as opt \n",
    "\n",
    "from scipy.optimize import curve_fit "
   ]
  },
  {
   "cell_type": "code",
   "execution_count": 8,
   "id": "40bdd8d0-8e72-4d4d-8b91-c5b9264d4413",
   "metadata": {},
   "outputs": [
    {
     "name": "stdout",
     "output_type": "stream",
     "text": [
      "3.141592653589793\n",
      "<built-in function cos>\n"
     ]
    }
   ],
   "source": [
    "math.pi \n",
    "print(math.pi) \n",
    "math.cos \n",
    "print(math.cos)"
   ]
  },
  {
   "cell_type": "code",
   "execution_count": 20,
   "id": "52d84d74-ffda-4571-a1aa-26b4ff7534d1",
   "metadata": {},
   "outputs": [
    {
     "ename": "TypeError",
     "evalue": "only size-1 arrays can be converted to Python scalars",
     "output_type": "error",
     "traceback": [
      "\u001b[1;31m---------------------------------------------------------------------------\u001b[0m",
      "\u001b[1;31mTypeError\u001b[0m                                 Traceback (most recent call last)",
      "Cell \u001b[1;32mIn[20], line 4\u001b[0m\n\u001b[0;32m      2\u001b[0m mev\u001b[38;5;241m=\u001b[39m\u001b[38;5;241m2\u001b[39m \n\u001b[0;32m      3\u001b[0m x\u001b[38;5;241m=\u001b[39mnp\u001b[38;5;241m.\u001b[39mlinspace(\u001b[38;5;241m0\u001b[39m,math\u001b[38;5;241m.\u001b[39mpi) \n\u001b[1;32m----> 4\u001b[0m \u001b[43mmath\u001b[49m\u001b[38;5;241;43m.\u001b[39;49m\u001b[43macos\u001b[49m\u001b[43m(\u001b[49m\u001b[43mx\u001b[49m\u001b[43m)\u001b[49m\n\u001b[0;32m      5\u001b[0m f2 \u001b[38;5;241m=\u001b[39m np\u001b[38;5;241m.\u001b[39mvectorize(cos(x))\n\u001b[0;32m      6\u001b[0m hv\u001b[38;5;241m=\u001b[39mmev\u001b[38;5;241m/\u001b[39m\u001b[38;5;241m1\u001b[39m\u001b[38;5;241m+\u001b[39m(mev\u001b[38;5;241m/\u001b[39m\u001b[38;5;241m0.511\u001b[39m)\u001b[38;5;241m*\u001b[39m(\u001b[38;5;241m1\u001b[39m\u001b[38;5;241m-\u001b[39mcos(x))\n",
      "\u001b[1;31mTypeError\u001b[0m: only size-1 arrays can be converted to Python scalars"
     ]
    }
   ],
   "source": [
    "# Equation set up  \n",
    "mev=2 \n",
    "x=np.linspace(0,math.pi) \n",
    "math.acos(x)\n",
    "hv=mev/1+(mev/0.511)*(1-cos(x))"
   ]
  }
 ],
 "metadata": {
  "kernelspec": {
   "display_name": "Python 3 (ipykernel)",
   "language": "python",
   "name": "python3"
  },
  "language_info": {
   "codemirror_mode": {
    "name": "ipython",
    "version": 3
   },
   "file_extension": ".py",
   "mimetype": "text/x-python",
   "name": "python",
   "nbconvert_exporter": "python",
   "pygments_lexer": "ipython3",
   "version": "3.10.9"
  }
 },
 "nbformat": 4,
 "nbformat_minor": 5
}
