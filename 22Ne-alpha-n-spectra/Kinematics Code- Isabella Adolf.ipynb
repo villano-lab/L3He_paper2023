{
 "cells": [
  {
   "cell_type": "code",
   "execution_count": null,
   "id": "1bd835b1-2243-49b8-9521-c30dc578d4e1",
   "metadata": {},
   "outputs": [],
   "source": []
  },
  {
   "cell_type": "code",
   "execution_count": 1,
   "id": "5f705dd6-6fa2-4ccc-9fcb-bcbf879a78a4",
   "metadata": {},
   "outputs": [],
   "source": [
    "#Imports\n",
    "import numpy as np\n",
    "from sympy import symbols\n",
    "import math\n",
    "import cmath \n",
    "\n",
    "import matplotlib as mpl\n",
    "from matplotlib import pyplot as plt"
   ]
  },
  {
   "cell_type": "code",
   "execution_count": 2,
   "id": "0abca127-6033-4b98-acf0-82609b0df3af",
   "metadata": {},
   "outputs": [
    {
     "name": "stdout",
     "output_type": "stream",
     "text": [
      "0.0005532385571232741\n",
      "-0.0037117036538443456\n",
      "-0.3614239991642956\n"
     ]
    }
   ],
   "source": [
    "#solving for a,b,c\n",
    "\n",
    "# Constants and given values\n",
    "M = 23261.81 #meV\n",
    "m = 940.60 #mev \n",
    "θ = 1 #degrees\n",
    "Ea = 1 #meV\n",
    "Q =-0.47834 #meV\n",
    "ma = 3727.3794066 #meV\n",
    "pxa=np.sqrt((2*ma)*Ea)\n",
    "\n",
    "#Equations for a,b,c\n",
    "a =  (1 / (2 * M)) + (math.tan(math.radians(θ))**2 / (2 * M)) + (1 / (2 * m)) + (math.tan(math.radians(θ))**2 / (2 * m)) \n",
    "b = -pxa / M \n",
    "c = (pxa**2 / (2 * M)) - Ea - Q\n",
    "\n",
    "#solve\n",
    "print(a)\n",
    "print(b)\n",
    "print(c)"
   ]
  },
  {
   "cell_type": "code",
   "execution_count": 3,
   "id": "86705442-686a-477b-9d82-69bbe77f30d4",
   "metadata": {},
   "outputs": [],
   "source": [
    "# function for finding roots  \n",
    "def findRoots(a, b, c):  \n",
    "  \n",
    "    dis_form = b * b - 4 * a * c  \n",
    "    sqrt_val = math.sqrt(abs(dis_form))  \n",
    "  \n",
    "  \n",
    "    if dis_form > 0:  \n",
    "        #print(\" real and different roots \")  \n",
    "        #print((-b + sqrt_val) / (2 * a))  \n",
    "        #print((-b - sqrt_val) / (2 * a))  \n",
    "  \n",
    "        r1=((-b + sqrt_val) / (2 * a))  \n",
    "        r2=((-b - sqrt_val) / (2 * a))\n",
    "\n",
    "    elif dis_form == 0:  \n",
    "        #print(\" real and same roots\")  \n",
    "        #print(-b / (2 * a))  \n",
    "  \n",
    "        r1=(-b / (2 * a))\n",
    "        r2=(-b / (2 * a))\n",
    "  \n",
    "    else:  \n",
    "        #print(\"Complex Roots\")  \n",
    "        #print(- b / (2 * a), \" + i\", sqrt_val)  \n",
    "        #print(- b / (2 * a), \" - i\", sqrt_val)  \n",
    "  \n",
    "        r1=(- b / (2 * a), \" + i\", sqrt_val)  \n",
    "        r2=(- b / (2 * a), \" - i\", sqrt_val)\n",
    "  \n",
    "    return [r1,r2]\n",
    "#a = float(input('Enter a:'))  \n",
    "#b = float(input('Enter b:'))  \n",
    "#c = float(input('Enter c:'))  \n",
    "  \n",
    "# If a is 0, then incorrect equation  \n",
    "if a == 0:  \n",
    "    print(\"Input correct quadratic equation\")  \n",
    "  \n",
    "else:  \n",
    "    findRoots(a, b, c)   "
   ]
  },
  {
   "cell_type": "code",
   "execution_count": 4,
   "id": "cf4fb287-59ee-4c54-b2ae-496824b6cc21",
   "metadata": {},
   "outputs": [
    {
     "name": "stdout",
     "output_type": "stream",
     "text": [
      "[ 0. 10. 20. 30. 40. 50. 60. 70. 80. 90.]\n"
     ]
    }
   ],
   "source": [
    "#Theta \n",
    "Theta=np.linspace(0,90,10)\n",
    "print (Theta)"
   ]
  },
  {
   "cell_type": "code",
   "execution_count": 5,
   "id": "5f875fd5-3e34-44a4-9fb8-88c4e21d4599",
   "metadata": {},
   "outputs": [
    {
     "name": "stdout",
     "output_type": "stream",
     "text": [
      "[0. 0. 0. 0. 0. 0. 0. 0. 0. 0.]\n"
     ]
    }
   ],
   "source": [
    "p = np.zeros(np.shape(Theta)) \n",
    "print(p)"
   ]
  },
  {
   "cell_type": "code",
   "execution_count": 6,
   "id": "3ad4e14e-45ec-422e-9b6f-4267b1623248",
   "metadata": {},
   "outputs": [
    {
     "name": "stdout",
     "output_type": "stream",
     "text": [
      "0 0.0\n",
      "29.13822456571937\n",
      "1 10.0\n",
      "28.638860571826616\n",
      "2 20.0\n",
      "27.16680003598321\n",
      "3 30.0\n",
      "24.797788190683114\n",
      "4 40.0\n",
      "21.650558971945575\n",
      "5 50.0\n",
      "17.876646280487417\n",
      "6 60.0\n",
      "13.648080037381531\n",
      "7 70.0\n",
      "9.144524872715738\n",
      "8 80.0\n",
      "4.541370954797508\n",
      "9 90.0\n",
      "1.5653061075588826e-15\n"
     ]
    }
   ],
   "source": [
    "#https://realpython.com/python-enumerate/\n",
    "for i , t in enumerate(Theta):\n",
    "    \n",
    "    print(i,t)\n",
    "    θ = t #degrees\n",
    "    a =  (1 / (2 * M)) + (math.tan(math.radians(θ))**2 / (2 * M)) + (1 / (2 * m)) + (math.tan(math.radians(θ))**2 / (2 * m)) \n",
    "    b = -pxa / M \n",
    "    c = (pxa**2 / (2 * M)) - Ea - Q\n",
    "    print(findRoots(a,b,c)[0])  \n",
    "    p[i] = findRoots(a,b,c)[0]"
   ]
  },
  {
   "cell_type": "code",
   "execution_count": 7,
   "id": "e40676a8-7892-45c4-bf11-72da403d602d",
   "metadata": {},
   "outputs": [
    {
     "name": "stdout",
     "output_type": "stream",
     "text": [
      "[2.91382246e+01 2.86388606e+01 2.71668000e+01 2.47977882e+01\n",
      " 2.16505590e+01 1.78766463e+01 1.36480800e+01 9.14452487e+00\n",
      " 4.54137095e+00 1.56530611e-15]\n"
     ]
    }
   ],
   "source": [
    "#results of p in x direction\n",
    "print(p)"
   ]
  }
 ],
 "metadata": {
  "kernelspec": {
   "display_name": "Python 3",
   "language": "python",
   "name": "python3"
  },
  "language_info": {
   "codemirror_mode": {
    "name": "ipython",
    "version": 3
   },
   "file_extension": ".py",
   "mimetype": "text/x-python",
   "name": "python",
   "nbconvert_exporter": "python",
   "pygments_lexer": "ipython3",
   "version": "3.8.8"
  }
 },
 "nbformat": 4,
 "nbformat_minor": 5
}
