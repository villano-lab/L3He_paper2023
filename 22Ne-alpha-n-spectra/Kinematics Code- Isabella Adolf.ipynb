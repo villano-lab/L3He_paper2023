{
 "cells": [
  {
   "cell_type": "code",
   "execution_count": 1,
   "id": "72861bf9",
   "metadata": {},
   "outputs": [],
   "source": [
    "#Imports\n",
    "import numpy as np\n",
    "from sympy import symbols\n",
    "import math\n",
    "import cmath"
   ]
  },
  {
   "cell_type": "code",
   "execution_count": 17,
   "id": "7aa788dd",
   "metadata": {},
   "outputs": [
    {
     "name": "stdout",
     "output_type": "stream",
     "text": [
      "0.0005532385571232741\n",
      "-0.0037117036538443456\n",
      "-0.3614239991642956\n"
     ]
    }
   ],
   "source": [
    "#solving for a,b,c\n",
    "\n",
    "# Constants and given values\n",
    "M = 23261.81 #meV\n",
    "m = 940.60 #mev \n",
    "θ = 1 #degrees\n",
    "Ea = 1 #meV\n",
    "Q =-0.47834 #meV\n",
    "ma = 3727.3794066 #meV\n",
    "pxa=np.sqrt((2*ma)*Ea)\n",
    "\n",
    "#Equations for a,b,c\n",
    "a =  (1 / (2 * M)) + (math.tan(math.radians(θ))**2 / (2 * M)) + (1 / (2 * m)) + (math.tan(math.radians(θ))**2 / (2 * m)) \n",
    "b = -pxa / M \n",
    "c = (pxa**2 / (2 * M)) - Ea - Q\n",
    "\n",
    "#solve\n",
    "print(a)\n",
    "print(b)\n",
    "print(c)"
   ]
  },
  {
   "cell_type": "code",
   "execution_count": 19,
   "id": "cd010877",
   "metadata": {},
   "outputs": [
    {
     "name": "stdout",
     "output_type": "stream",
     "text": [
      " real and different roots \n",
      "29.133209186230392\n",
      "-22.424161875528775\n"
     ]
    }
   ],
   "source": [
    "# function for finding roots  \n",
    "def findRoots(a, b, c):  \n",
    "  \n",
    "    dis_form = b * b - 4 * a * c  \n",
    "    sqrt_val = math.sqrt(abs(dis_form))  \n",
    "  \n",
    "  \n",
    "    if dis_form > 0:  \n",
    "        print(\" real and different roots \")  \n",
    "        print((-b + sqrt_val) / (2 * a))  \n",
    "        print((-b - sqrt_val) / (2 * a))  \n",
    "  \n",
    "    elif dis_form == 0:  \n",
    "        print(\" real and same roots\")  \n",
    "        print(-b / (2 * a))  \n",
    "  \n",
    "  \n",
    "    else:  \n",
    "        print(\"Complex Roots\")  \n",
    "        print(- b / (2 * a), \" + i\", sqrt_val)  \n",
    "        print(- b / (2 * a), \" - i\", sqrt_val)  \n",
    "  \n",
    "  \n",
    "#a = float(input('Enter a:'))  \n",
    "#b = float(input('Enter b:'))  \n",
    "#c = float(input('Enter c:'))  \n",
    "  \n",
    "# If a is 0, then incorrect equation  \n",
    "if a == 0:  \n",
    "    print(\"Input correct quadratic equation\")  \n",
    "  \n",
    "else:  \n",
    "    findRoots(a, b, c)   "
   ]
  }
 ],
 "metadata": {
  "kernelspec": {
   "display_name": "Python 3",
   "language": "python",
   "name": "python3"
  },
  "language_info": {
   "codemirror_mode": {
    "name": "ipython",
    "version": 3
   },
   "file_extension": ".py",
   "mimetype": "text/x-python",
   "name": "python",
   "nbconvert_exporter": "python",
   "pygments_lexer": "ipython3",
   "version": "3.8.8"
  }
 },
 "nbformat": 4,
 "nbformat_minor": 5
}
