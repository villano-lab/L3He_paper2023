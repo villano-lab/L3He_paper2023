{
 "cells": [
  {
   "cell_type": "code",
   "execution_count": 1,
   "id": "640c18ce-0776-47ab-81ec-018f4b4931a3",
   "metadata": {},
   "outputs": [],
   "source": [
    "#we may need some code in the ../python directory and/or matplotlib styles\n",
    "import sys\n",
    "sys.path.append('../python/')\n",
    "\n",
    "#matplotlib for plotting\n",
    "import matplotlib as mpl\n",
    "from matplotlib import pyplot as plt\n",
    "plt.style.use('../mplstyles/stylelib/standard.mplstyle')\n",
    "\n",
    "#other computational libraries\n",
    "import numpy as np\n",
    "import pandas as pd\n",
    "import scipy.constants as co\n",
    "import scipy.stats as ss\n",
    "import itertools\n",
    "import pickle\n",
    "from scipy import signal"
   ]
  },
  {
   "cell_type": "code",
   "execution_count": 2,
   "id": "4515c99d-e2a2-4d10-82b5-6b20da910167",
   "metadata": {},
   "outputs": [],
   "source": [
    "import sim3He as sh"
   ]
  },
  {
   "cell_type": "code",
   "execution_count": 3,
   "id": "d66030bc-5796-49c0-9ea6-89874622f002",
   "metadata": {},
   "outputs": [
    {
     "name": "stdout",
     "output_type": "stream",
     "text": [
      "[0.001233393968613308, 2.4627315018499024e+20]\n"
     ]
    }
   ],
   "source": [
    "print(sh.get3HeDensity(10))"
   ]
  },
  {
   "cell_type": "code",
   "execution_count": 4,
   "id": "923feef2-5db7-4a0d-9804-c08ed9c93f80",
   "metadata": {},
   "outputs": [
    {
     "name": "stdout",
     "output_type": "stream",
     "text": [
      "             E          spec\n",
      "0     0.010000  1.363613e-05\n",
      "1     0.011665  1.248156e-05\n",
      "2     0.013330  1.158524e-05\n",
      "3     0.014995  1.081976e-05\n",
      "4     0.016660  1.025799e-05\n",
      "...        ...           ...\n",
      "5995  9.991680  0.000000e+00\n",
      "5996  9.993340  0.000000e+00\n",
      "5997  9.995010  0.000000e+00\n",
      "5998  9.996670  0.000000e+00\n",
      "5999  9.998330  2.537824e-12\n",
      "\n",
      "[6000 rows x 2 columns]\n",
      "4000.0\n"
     ]
    }
   ],
   "source": [
    "sh.getSNOLABnFlux()"
   ]
  },
  {
   "cell_type": "code",
   "execution_count": null,
   "id": "27ae2f69-075f-42f0-8148-d2a3c80e377a",
   "metadata": {},
   "outputs": [],
   "source": []
  }
 ],
 "metadata": {
  "kernelspec": {
   "display_name": "Python (fano_pub_new)",
   "language": "python",
   "name": "fano_pub_new"
  },
  "language_info": {
   "codemirror_mode": {
    "name": "ipython",
    "version": 3
   },
   "file_extension": ".py",
   "mimetype": "text/x-python",
   "name": "python",
   "nbconvert_exporter": "python",
   "pygments_lexer": "ipython3",
   "version": "3.9.12"
  }
 },
 "nbformat": 4,
 "nbformat_minor": 5
}
