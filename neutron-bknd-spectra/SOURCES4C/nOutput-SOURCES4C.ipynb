{
 "cells": [
  {
   "cell_type": "code",
   "execution_count": 1,
   "id": "01cb2e95-fe7a-4887-a49f-8f4a15ff2284",
   "metadata": {},
   "outputs": [],
   "source": [
    "#we may need some code in the ../python directory and/or matplotlib styles\n",
    "import sys\n",
    "sys.path.append('../python/')\n",
    "\n",
    "#matplotlib for plotting\n",
    "import matplotlib as mpl\n",
    "from matplotlib import pyplot as plt\n",
    "plt.style.use('../../mplstyles/stylelib/standard.mplstyle')\n",
    "\n",
    "#other computational libraries\n",
    "import numpy as np\n",
    "import pandas as pd\n",
    "import scipy.constants as co\n",
    "import scipy.stats as ss\n",
    "import itertools\n",
    "import pickle\n",
    "from scipy import signal"
   ]
  },
  {
   "cell_type": "code",
   "execution_count": 5,
   "id": "00542175-31a3-4181-832b-8717cd8ee200",
   "metadata": {},
   "outputs": [
    {
     "name": "stdout",
     "output_type": "stream",
     "text": [
      "   Energy           a,n          S.F.         Total\n",
      "0     0.0  3.100000e-13  5.910000e-16  3.106000e-13\n",
      "1     0.1  6.914000e-13  1.040000e-15  6.925000e-13\n",
      "2     0.2  9.225000e-13  1.285000e-15  9.238000e-13\n",
      "3     0.3  1.158000e-12  1.445000e-15  1.159000e-12\n",
      "4     0.4  1.333000e-12  1.548000e-15  1.335000e-12\n",
      "5     0.5  1.483000e-12  1.611000e-15  1.484000e-12\n",
      "6     0.6  1.556000e-12  1.643000e-15  1.558000e-12\n",
      "7     0.8  1.585000e-12  1.637000e-15  1.586000e-12\n",
      "8     0.9  1.601000e-12  1.608000e-15  1.603000e-12\n",
      "9     1.0  1.582000e-12  1.567000e-15  1.583000e-12\n"
     ]
    }
   ],
   "source": [
    "th232_chain = pd.read_csv(\"SNOLAB-shotcrete-inputs/homogenous/Th232-chain-shotcrete-abb-summary.txt\", skiprows=1, engine='python', names=['Energy','a,n','S.F.','Total'], \\\n",
    "                         delim_whitespace=True)\n",
    "print (th232_chain.head(10))\n"
   ]
  },
  {
   "cell_type": "code",
   "execution_count": null,
   "id": "5a078ecc-58ab-4b20-8710-73640d6a58ba",
   "metadata": {},
   "outputs": [],
   "source": []
  }
 ],
 "metadata": {
  "kernelspec": {
   "display_name": "Python (fano_pub_new)",
   "language": "python",
   "name": "fano_pub_new"
  },
  "language_info": {
   "codemirror_mode": {
    "name": "ipython",
    "version": 3
   },
   "file_extension": ".py",
   "mimetype": "text/x-python",
   "name": "python",
   "nbconvert_exporter": "python",
   "pygments_lexer": "ipython3",
   "version": "3.8.0"
  }
 },
 "nbformat": 4,
 "nbformat_minor": 5
}
